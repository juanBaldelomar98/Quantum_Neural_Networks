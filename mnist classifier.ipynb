{
 "cells": [
  {
   "cell_type": "markdown",
   "metadata": {},
   "source": [
    "# PARAMETERS"
   ]
  },
  {
   "cell_type": "code",
   "execution_count": 1,
   "metadata": {},
   "outputs": [],
   "source": [
    "n_qu = 4 # The number of qubits we will handle\n",
    "#Pairs of CNOT gates\n",
    "#pairs = [[0,1],[2,3],[2,4]]\n",
    "pairs = [[0,1],[2,3]]\n",
    "\n",
    "#\n",
    "ns = [1,5]"
   ]
  },
  {
   "cell_type": "markdown",
   "metadata": {},
   "source": [
    "# Import and show the MNIST dataset"
   ]
  },
  {
   "cell_type": "code",
   "execution_count": 2,
   "metadata": {},
   "outputs": [],
   "source": [
    "import numpy as np\n",
    "from keras.datasets import mnist\n",
    "import matplotlib.pyplot as plt"
   ]
  },
  {
   "cell_type": "markdown",
   "metadata": {},
   "source": [
    "### Leave indexes of numbers to predict"
   ]
  },
  {
   "cell_type": "code",
   "execution_count": 3,
   "metadata": {},
   "outputs": [],
   "source": [
    "(train_x, train_y), (test_x, test_y) = mnist.load_data()\n",
    "\n",
    "indexesTr = [i for (i,x) in enumerate(train_y) if (x == ns[0] or x == ns[1])]\n",
    "train_x = train_x[indexesTr]\n",
    "train_y = train_y[indexesTr]\n",
    "train_y = np.array([1 if x== ns[0] else -1 for (i,x) in enumerate(train_y)])\n",
    "\n",
    "indexesTe = [i for (i,x) in enumerate(test_y) if (x == ns[0] or x == ns[1])]\n",
    "test_x = test_x[indexesTe]\n",
    "test_y = test_y[indexesTe]\n",
    "test_y = np.array([1 if x== 3 else -1 for (i,x) in enumerate(test_y)])\n",
    "\n",
    "#flatten\n",
    "train_x_flat = train_x.reshape([train_x.shape[0],-1])\n",
    "test_x_flat = test_x.reshape([test_x.shape[0],-1])"
   ]
  },
  {
   "cell_type": "code",
   "execution_count": 4,
   "metadata": {},
   "outputs": [
    {
     "name": "stdout",
     "output_type": "stream",
     "text": [
      "[-1  1  1 ... -1  1 -1]\n"
     ]
    }
   ],
   "source": [
    "print(train_y)"
   ]
  },
  {
   "cell_type": "markdown",
   "metadata": {},
   "source": [
    "### Print images"
   ]
  },
  {
   "cell_type": "code",
   "execution_count": 21,
   "metadata": {},
   "outputs": [
    {
     "data": {
      "text/plain": [
       "<matplotlib.image.AxesImage at 0x2d190465f70>"
      ]
     },
     "execution_count": 21,
     "metadata": {},
     "output_type": "execute_result"
    },
    {
     "data": {
      "image/png": "[encoded data removed]",
      "text/plain": [
       "<Figure size 432x288 with 1 Axes>"
      ]
     },
     "metadata": {
      "needs_background": "light"
     },
     "output_type": "display_data"
    }
   ],
   "source": [
    "plt.imshow(train_x[8])"
   ]
  },
  {
   "cell_type": "markdown",
   "metadata": {},
   "source": [
    "# PCA for preprocessing\n",
    "### Imports"
   ]
  },
  {
   "cell_type": "code",
   "execution_count": 6,
   "metadata": {},
   "outputs": [],
   "source": [
    "from sklearn.decomposition import PCA\n",
    "from sklearn.preprocessing import StandardScaler"
   ]
  },
  {
   "cell_type": "markdown",
   "metadata": {},
   "source": [
    "### Apply PCA and obtain the transformations"
   ]
  },
  {
   "cell_type": "code",
   "execution_count": 7,
   "metadata": {},
   "outputs": [],
   "source": [
    "#normalizing data\n",
    "scaler = StandardScaler()\n",
    "scaler.fit(train_x_flat)\n",
    "prep_data_train = scaler.transform(train_x_flat)\n",
    "\n",
    "#Applying pca\n",
    "pca = PCA(n_components = n_qu)\n",
    "pca.fit(prep_data_train)\n",
    "prep_data_train = pca.transform(prep_data_train)"
   ]
  },
  {
   "cell_type": "markdown",
   "metadata": {},
   "source": [
    "### Preprocessing the testing data with the fitted models"
   ]
  },
  {
   "cell_type": "code",
   "execution_count": 8,
   "metadata": {},
   "outputs": [],
   "source": [
    "prep_data_test = scaler.transform(test_x_flat)\n",
    "prep_data_test = pca.transform(prep_data_test)"
   ]
  },
  {
   "cell_type": "markdown",
   "metadata": {},
   "source": [
    "### lets reduce the amount of data upon which we'll train"
   ]
  },
  {
   "cell_type": "code",
   "execution_count": 9,
   "metadata": {},
   "outputs": [],
   "source": [
    "index_sample = np.random.choice(list(range(prep_data_train.shape[0])), 200)\n",
    "prep_data_train = prep_data_train[index_sample]\n",
    "train_y = train_y[index_sample]"
   ]
  },
  {
   "cell_type": "markdown",
   "metadata": {},
   "source": [
    "# Let's go Quantum!\n",
    "\n",
    "### Imports"
   ]
  },
  {
   "cell_type": "code",
   "execution_count": 10,
   "metadata": {},
   "outputs": [],
   "source": [
    "from qiskit import QuantumCircuit\n",
    "from qiskit.circuit import ParameterVector\n",
    "\n",
    "from qiskit.opflow import Z, I, StateFn, AerPauliExpectation\n",
    "from qiskit.opflow.gradients import Gradient\n",
    "from qiskit_machine_learning.neural_networks import OpflowQNN\n",
    "from qiskit_machine_learning.algorithms import NeuralNetworkClassifier\n",
    "from qiskit.algorithms.optimizers import SPSA\n",
    "from qiskit.utils import QuantumInstance\n",
    "from qiskit import Aer\n",
    "from qiskit import BasicAer\n",
    "from qiskit_machine_learning.utils.loss_functions import L2Loss"
   ]
  },
  {
   "cell_type": "markdown",
   "metadata": {},
   "source": [
    "### Create Quantum Circuit"
   ]
  },
  {
   "cell_type": "code",
   "execution_count": 11,
   "metadata": {},
   "outputs": [
    {
     "name": "stderr",
     "output_type": "stream",
     "text": [
      "c:\\users\\jjb_1\\appdata\\local\\programs\\python\\python38\\lib\\site-packages\\sympy\\core\\expr.py:3949: SymPyDeprecationWarning: \n",
      "\n",
      "expr_free_symbols method has been deprecated since SymPy 1.9. See\n",
      "https://github.com/sympy/sympy/issues/21494 for more info.\n",
      "\n",
      "  SymPyDeprecationWarning(feature=\"expr_free_symbols method\",\n"
     ]
    },
    {
     "data": {
      "image/png": "[encoded data removed]",
      "text/plain": [
       "<Figure size 327.397x264.88 with 1 Axes>"
      ]
     },
     "execution_count": 11,
     "metadata": {},
     "output_type": "execute_result"
    }
   ],
   "source": [
    "circuit = QuantumCircuit(n_qu)\n",
    "\n",
    "params_data = ParameterVector('p', n_qu)\n",
    "params_train = ParameterVector('q', n_qu*2)\n",
    "\n",
    "for j in range(n_qu):\n",
    "    #TODO: custome circuit, change gates\n",
    "    circuit.rx(params_data[j], j)\n",
    "\n",
    "for p in pairs:\n",
    "    circuit.cx(p[0],p[1])\n",
    "\n",
    "for j in range(n_qu*2):\n",
    "    circuit.ry(params_train[j], j%n_qu)\n",
    "circuit.draw()"
   ]
  },
  {
   "cell_type": "code",
   "execution_count": 12,
   "metadata": {},
   "outputs": [
    {
     "name": "stderr",
     "output_type": "stream",
     "text": [
      "<ipython-input-12-0287251f93b4>:16: DeprecationWarning: The loss argument value \"l2\" is deprecated as of version 0.2.0 and will be removed no sooner than 3 months after the release. Instead use the \"squared_error\" value.\n",
      "  classifier = NeuralNetworkClassifier(qnn, optimizer=opt, loss='l2')\n"
     ]
    }
   ],
   "source": [
    "sim = Aer.get_backend('aer_simulator')\n",
    "quantum_instance = QuantumInstance(sim, shots=1024)\n",
    "\n",
    "observable = Z ^ I ^ I ^ I\n",
    "\n",
    "qnn_expectation = StateFn(observable, is_measurement=True) @ StateFn(circuit)\n",
    "\n",
    "qnn = OpflowQNN(qnn_expectation,\n",
    "                input_params=params_data,\n",
    "                weight_params=params_train,\n",
    "                exp_val=AerPauliExpectation(),\n",
    "                gradient=Gradient(),\n",
    "                quantum_instance=quantum_instance)\n",
    "\n",
    "opt = SPSA(maxiter=100)\n",
    "classifier = NeuralNetworkClassifier(qnn, optimizer=opt, loss='l2')"
   ]
  },
  {
   "cell_type": "markdown",
   "metadata": {},
   "source": [
    "### Training and testing"
   ]
  },
  {
   "cell_type": "code",
   "execution_count": 13,
   "metadata": {},
   "outputs": [
    {
     "data": {
      "text/plain": [
       "<qiskit_machine_learning.algorithms.classifiers.neural_network_classifier.NeuralNetworkClassifier at 0x2d190a82220>"
      ]
     },
     "execution_count": 13,
     "metadata": {},
     "output_type": "execute_result"
    }
   ],
   "source": [
    "classifier.fit(prep_data_train, train_y)"
   ]
  },
  {
   "cell_type": "code",
   "execution_count": 14,
   "metadata": {},
   "outputs": [
    {
     "data": {
      "text/plain": [
       "0.515"
      ]
     },
     "execution_count": 14,
     "metadata": {},
     "output_type": "execute_result"
    }
   ],
   "source": [
    "classifier.score(prep_data_train, train_y)"
   ]
  },
  {
   "cell_type": "code",
   "execution_count": 15,
   "metadata": {},
   "outputs": [
    {
     "data": {
      "text/plain": [
       "0.4913665515540207"
      ]
     },
     "execution_count": 15,
     "metadata": {},
     "output_type": "execute_result"
    }
   ],
   "source": [
    "classifier.score(prep_data_test, test_y)"
   ]
  }
 ],
 "metadata": {
  "kernelspec": {
   "display_name": "Python 3",
   "language": "python",
   "name": "python3"
  },
  "language_info": {
   "codemirror_mode": {
    "name": "ipython",
    "version": 3
   },
   "file_extension": ".py",
   "mimetype": "text/x-python",
   "name": "python",
   "nbconvert_exporter": "python",
   "pygments_lexer": "ipython3",
   "version": "3.8.2"
  }
 },
 "nbformat": 4,
 "nbformat_minor": 4
}
