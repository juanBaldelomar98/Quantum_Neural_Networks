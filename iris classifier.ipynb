{
 "cells": [
  {
   "cell_type": "markdown",
   "metadata": {},
   "source": [
    "# PARAMETERS"
   ]
  },
  {
   "cell_type": "code",
   "execution_count": 1,
   "metadata": {},
   "outputs": [],
   "source": [
    "n_qu = 4 # The number of qubits we will handle\n",
    "#Pairs of CNOT gates\n",
    "pairs = [[0,1],[2,3]]#,[2,4]]"
   ]
  },
  {
   "cell_type": "markdown",
   "metadata": {},
   "source": [
    "## Load IRIS\n",
    "### Imports"
   ]
  },
  {
   "cell_type": "code",
   "execution_count": 2,
   "metadata": {},
   "outputs": [],
   "source": [
    "import numpy as np\n",
    "from sklearn import datasets\n",
    "from sklearn.model_selection import train_test_split"
   ]
  },
  {
   "cell_type": "markdown",
   "metadata": {},
   "source": [
    "### Load dataset and make test partition"
   ]
  },
  {
   "cell_type": "code",
   "execution_count": 3,
   "metadata": {},
   "outputs": [],
   "source": [
    "iris = datasets.load_iris()\n",
    "x = iris.data\n",
    "label = iris.target\n",
    "indexes = np.array([i for (i,s) in enumerate(label) if (s == 0 or s == 1)])\n",
    "x = x[indexes]\n",
    "label = 2*label[indexes]-1\n",
    "\n",
    "x_train, x_test, y_train, y_test = train_test_split(x, label, test_size=30)"
   ]
  },
  {
   "cell_type": "markdown",
   "metadata": {},
   "source": [
    "## Quantum Neural Network Classification\n",
    "### Imports"
   ]
  },
  {
   "cell_type": "code",
   "execution_count": 4,
   "metadata": {},
   "outputs": [],
   "source": [
    "from qiskit import QuantumCircuit\n",
    "from qiskit.circuit import ParameterVector\n",
    "\n",
    "from qiskit.opflow import Z, I, StateFn, AerPauliExpectation\n",
    "from qiskit.opflow.gradients import Gradient\n",
    "from qiskit_machine_learning.neural_networks import OpflowQNN\n",
    "from qiskit_machine_learning.algorithms import NeuralNetworkClassifier\n",
    "from qiskit.algorithms.optimizers import SPSA\n",
    "from qiskit.utils import QuantumInstance\n",
    "from qiskit import Aer\n",
    "from qiskit import BasicAer\n",
    "from qiskit_machine_learning.utils.loss_functions import L2Loss"
   ]
  },
  {
   "cell_type": "code",
   "execution_count": 5,
   "metadata": {},
   "outputs": [
    {
     "name": "stderr",
     "output_type": "stream",
     "text": [
      "c:\\users\\jjb_1\\appdata\\local\\programs\\python\\python38\\lib\\site-packages\\sympy\\core\\expr.py:3949: SymPyDeprecationWarning: \n",
      "\n",
      "expr_free_symbols method has been deprecated since SymPy 1.9. See\n",
      "https://github.com/sympy/sympy/issues/21494 for more info.\n",
      "\n",
      "  SymPyDeprecationWarning(feature=\"expr_free_symbols method\",\n"
     ]
    },
    {
     "data": {
      "image/png": "[encoded data removed]",
      "text/plain": [
       "<Figure size 327.397x264.88 with 1 Axes>"
      ]
     },
     "execution_count": 5,
     "metadata": {},
     "output_type": "execute_result"
    }
   ],
   "source": [
    "circuit = QuantumCircuit(n_qu)\n",
    "\n",
    "params_data = ParameterVector('p', n_qu)\n",
    "params_train = ParameterVector('q', n_qu*2)\n",
    "\n",
    "for j in range(n_qu):\n",
    "    #TODO: custome circuit, change gates\n",
    "    circuit.rx(params_data[j], j)\n",
    "\n",
    "for p in pairs:\n",
    "    circuit.cx(p[0],p[1])\n",
    "\n",
    "for j in range(n_qu*2):\n",
    "    circuit.ry(params_train[j], j%n_qu)\n",
    "circuit.draw()"
   ]
  },
  {
   "cell_type": "code",
   "execution_count": 6,
   "metadata": {},
   "outputs": [
    {
     "name": "stderr",
     "output_type": "stream",
     "text": [
      "<ipython-input-6-0287251f93b4>:16: DeprecationWarning: The loss argument value \"l2\" is deprecated as of version 0.2.0 and will be removed no sooner than 3 months after the release. Instead use the \"squared_error\" value.\n",
      "  classifier = NeuralNetworkClassifier(qnn, optimizer=opt, loss='l2')\n"
     ]
    }
   ],
   "source": [
    "sim = Aer.get_backend('aer_simulator')\n",
    "quantum_instance = QuantumInstance(sim, shots=1024)\n",
    "\n",
    "observable = Z ^ I ^ I ^ I\n",
    "\n",
    "qnn_expectation = StateFn(observable, is_measurement=True) @ StateFn(circuit)\n",
    "\n",
    "qnn = OpflowQNN(qnn_expectation,\n",
    "                input_params=params_data,\n",
    "                weight_params=params_train,\n",
    "                exp_val=AerPauliExpectation(),\n",
    "                gradient=Gradient(),\n",
    "                quantum_instance=quantum_instance)\n",
    "\n",
    "opt = SPSA(maxiter=100)\n",
    "classifier = NeuralNetworkClassifier(qnn, optimizer=opt, loss='l2')"
   ]
  },
  {
   "cell_type": "markdown",
   "metadata": {},
   "source": [
    "## Fitting the data"
   ]
  },
  {
   "cell_type": "code",
   "execution_count": 7,
   "metadata": {},
   "outputs": [
    {
     "data": {
      "text/plain": [
       "<qiskit_machine_learning.algorithms.classifiers.neural_network_classifier.NeuralNetworkClassifier at 0x2677f7d95b0>"
      ]
     },
     "execution_count": 7,
     "metadata": {},
     "output_type": "execute_result"
    }
   ],
   "source": [
    "classifier.fit(x_train, y_train)"
   ]
  },
  {
   "cell_type": "code",
   "execution_count": 8,
   "metadata": {},
   "outputs": [
    {
     "data": {
      "text/plain": [
       "0.8571428571428571"
      ]
     },
     "execution_count": 8,
     "metadata": {},
     "output_type": "execute_result"
    }
   ],
   "source": [
    "classifier.score(x_train, y_train)"
   ]
  },
  {
   "cell_type": "code",
   "execution_count": 9,
   "metadata": {},
   "outputs": [
    {
     "data": {
      "text/plain": [
       "0.7333333333333333"
      ]
     },
     "execution_count": 9,
     "metadata": {},
     "output_type": "execute_result"
    }
   ],
   "source": [
    "classifier.score(x_test, y_test)"
   ]
  },
  {
   "cell_type": "markdown",
   "metadata": {},
   "source": [
    "# Visualization of the results of classification with PCA"
   ]
  },
  {
   "cell_type": "code",
   "execution_count": 10,
   "metadata": {},
   "outputs": [],
   "source": [
    "import matplotlib.pyplot as plt\n",
    "from sklearn.decomposition import PCA\n",
    "from sklearn.preprocessing import StandardScaler"
   ]
  },
  {
   "cell_type": "code",
   "execution_count": 11,
   "metadata": {},
   "outputs": [],
   "source": [
    "#normalizing data\n",
    "scaler = StandardScaler()\n",
    "scaler.fit(x_test)\n",
    "test_visualization = scaler.transform(x_test)\n",
    "\n",
    "#Applying pca\n",
    "pca = PCA(n_components = 2)\n",
    "pca.fit(test_visualization)\n",
    "test_visualization = pca.transform(test_visualization)"
   ]
  },
  {
   "cell_type": "markdown",
   "metadata": {},
   "source": [
    "## Visualization of the testing data with PCA"
   ]
  },
  {
   "cell_type": "code",
   "execution_count": 12,
   "metadata": {},
   "outputs": [
    {
     "data": {
      "text/plain": [
       "<matplotlib.collections.PathCollection at 0x267e0b809d0>"
      ]
     },
     "execution_count": 12,
     "metadata": {},
     "output_type": "execute_result"
    },
    {
     "data": {
      "image/png": "[encoded data removed]",
      "text/plain": [
       "<Figure size 432x288 with 1 Axes>"
      ]
     },
     "metadata": {
      "needs_background": "light"
     },
     "output_type": "display_data"
    }
   ],
   "source": [
    "plt.scatter(test_visualization[:,0],test_visualization[:,1],\n",
    "            color = np.array([\"blue\",\"yellow\"])[np.array((y_test+1)/2, dtype = int)])"
   ]
  },
  {
   "cell_type": "markdown",
   "metadata": {},
   "source": [
    "## Visualization of the mistakes (red) the Neural Network made"
   ]
  },
  {
   "cell_type": "code",
   "execution_count": 14,
   "metadata": {},
   "outputs": [
    {
     "data": {
      "text/plain": [
       "<matplotlib.collections.PathCollection at 0x267e0eded60>"
      ]
     },
     "execution_count": 14,
     "metadata": {},
     "output_type": "execute_result"
    },
    {
     "data": {
      "image/png": "[encoded data removed]",
      "text/plain": [
       "<Figure size 432x288 with 1 Axes>"
      ]
     },
     "metadata": {
      "needs_background": "light"
     },
     "output_type": "display_data"
    }
   ],
   "source": [
    "prediction = classifier.predict(x_test)[:,0]\n",
    "error = np.array(abs(prediction-y_test)/2, dtype = int)\n",
    "\n",
    "label_error = np.array((y_test+1)/2, dtype = int)\n",
    "for i in range(len(error)):\n",
    "    if error[i] == 1:\n",
    "        label_error[i] = 2\n",
    "\n",
    "plt.scatter(test_visualization[:,0],test_visualization[:,1],\n",
    "            color = np.array([\"blue\",\"yellow\",\"red\"])[label_error])"
   ]
  }
 ],
 "metadata": {
  "kernelspec": {
   "display_name": "Python 3",
   "language": "python",
   "name": "python3"
  },
  "language_info": {
   "codemirror_mode": {
    "name": "ipython",
    "version": 3
   },
   "file_extension": ".py",
   "mimetype": "text/x-python",
   "name": "python",
   "nbconvert_exporter": "python",
   "pygments_lexer": "ipython3",
   "version": "3.8.2"
  }
 },
 "nbformat": 4,
 "nbformat_minor": 4
}
